{
 "cells": [
  {
   "cell_type": "code",
   "execution_count": 2,
   "metadata": {
    "collapsed": true
   },
   "outputs": [],
   "source": [
    "from gridworld_agent import *\n",
    "from reward_guesser import *\n",
    "import csv"
   ]
  },
  {
   "cell_type": "code",
   "execution_count": null,
   "metadata": {},
   "outputs": [],
   "source": [
    "b = GridWorldAgent(width=32,height=32,rewardValues =  {1:10})\n",
    "\n",
    "with open(\"scaledpath.csv\") as csvfile:\n",
    "            reader = csv.reader(csvfile)\n",
    "            data = list(reader)\n",
    "data = [(int(x),int(y)) for (x,y) in data]\n",
    "action_list, path_list = b.takeListGetPath(data)\n",
    "c = RewardGuesser(b.map.T, b.map.S, b.r, action_list, path_list, 32,32)\n",
    "c.simpleValidate( display=True)"
   ]
  },
  {
   "cell_type": "code",
   "execution_count": null,
   "metadata": {
    "collapsed": true
   },
   "outputs": [],
   "source": []
  }
 ],
 "metadata": {
  "kernelspec": {
   "display_name": "Python 2",
   "language": "python",
   "name": "python2"
  },
  "language_info": {
   "codemirror_mode": {
    "name": "ipython",
    "version": 2
   },
   "file_extension": ".py",
   "mimetype": "text/x-python",
   "name": "python",
   "nbconvert_exporter": "python",
   "pygments_lexer": "ipython2",
   "version": "2.7.14"
  }
 },
 "nbformat": 4,
 "nbformat_minor": 2
}

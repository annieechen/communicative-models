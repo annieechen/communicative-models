{
 "cells": [
  {
   "cell_type": "code",
   "execution_count": 9,
   "metadata": {
    "collapsed": true
   },
   "outputs": [],
   "source": [
    "from gridworld_agent import *\n",
    "from reward_guesser import *\n",
    "import csv\n",
    "import os\n",
    "import json"
   ]
  },
  {
   "cell_type": "code",
   "execution_count": 16,
   "metadata": {},
   "outputs": [
    {
     "name": "stdout",
     "output_type": "stream",
     "text": [
      "akdo.csv\n",
      "aeea.csv\n",
      "akil.csv\n",
      "abkj.csv\n",
      "aaaa.csv\n"
     ]
    }
   ],
   "source": [
    "b = GridWorldAgent(width=32,height=32,rewardValues =  {1:10})\n",
    "\n",
    "\n",
    "results = {}\n",
    "for filename in os.listdir(\"scaled_data\"):\n",
    "    if filename.startswith('a')\n",
    "    with open(os.path.join(\"scaled_data\", filename)) as csvfile:\n",
    "        reader = csv.reader(csvfile)\n",
    "        data = list(reader)\n",
    "    data = [(int(x),int(y)) for (x,y) in data]\n",
    "    action_list, path_list = b.takeListGetPath(data)\n",
    "    c = RewardGuesser(b.map.T, b.map.S, b.r, action_list, path_list, 32,32)\n",
    "    res = c.getMarginalProb()\n",
    "    results[filename] = (res, len(action_list))"
   ]
  },
  {
   "cell_type": "code",
   "execution_count": 14,
   "metadata": {},
   "outputs": [],
   "source": [
    "with open(\"finalresults\", 'w+') as f:\n",
    "    f.write(json.dumps(results))"
   ]
  },
  {
   "cell_type": "code",
   "execution_count": 3,
   "metadata": {},
   "outputs": [
    {
     "name": "stdout",
     "output_type": "stream",
     "text": [
      "0.156494140625\n"
     ]
    },
    {
     "data": {
      "text/plain": [
       "0.156494140625"
      ]
     },
     "execution_count": 3,
     "metadata": {},
     "output_type": "execute_result"
    }
   ],
   "source": [
    "action_list = [0,0,0,0]\n",
    "path_list = [4,3,2,1]\n",
    "a = GridWorldAgent(width=5,height=5,rewardValues =  {1:10})\n",
    "c = RewardGuesser(a.map.T, a.map.S, a.r, action_list, path_list, 5,5)\n",
    "c.getMarginalProb()"
   ]
  },
  {
   "cell_type": "code",
   "execution_count": 2,
   "metadata": {},
   "outputs": [
    {
     "name": "stdout",
     "output_type": "stream",
     "text": [
      "0.16650390625\n"
     ]
    },
    {
     "data": {
      "text/plain": [
       "0.16650390625"
      ]
     },
     "execution_count": 2,
     "metadata": {},
     "output_type": "execute_result"
    }
   ],
   "source": [
    "action_list = [0,0,0,0]\n",
    "path_list = [24,23,22,21]\n",
    "a = GridWorldAgent(width=5,height=5,rewardValues =  {1:10})\n",
    "c = RewardGuesser(a.map.T, a.map.S, a.r, action_list, path_list, 5,5)\n",
    "c.getMarginalProb()"
   ]
  },
  {
   "cell_type": "code",
   "execution_count": 4,
   "metadata": {},
   "outputs": [
    {
     "name": "stdout",
     "output_type": "stream",
     "text": [
      "0.00244140625\n"
     ]
    },
    {
     "data": {
      "text/plain": [
       "0.00244140625"
      ]
     },
     "execution_count": 4,
     "metadata": {},
     "output_type": "execute_result"
    }
   ],
   "source": [
    "action_list = [0,0,1,1]\n",
    "path_list = [3,2,3,4]\n",
    "a = GridWorldAgent(width=5,height=5,rewardValues =  {1:10})\n",
    "c = RewardGuesser(a.map.T, a.map.S, a.r, action_list, path_list, 5,5)\n",
    "c.getMarginalProb()"
   ]
  },
  {
   "cell_type": "code",
   "execution_count": null,
   "metadata": {
    "collapsed": true
   },
   "outputs": [],
   "source": []
  }
 ],
 "metadata": {
  "kernelspec": {
   "display_name": "Python 2",
   "language": "python",
   "name": "python2"
  },
  "language_info": {
   "codemirror_mode": {
    "name": "ipython",
    "version": 2
   },
   "file_extension": ".py",
   "mimetype": "text/x-python",
   "name": "python",
   "nbconvert_exporter": "python",
   "pygments_lexer": "ipython2",
   "version": "2.7.14"
  }
 },
 "nbformat": 4,
 "nbformat_minor": 2
}

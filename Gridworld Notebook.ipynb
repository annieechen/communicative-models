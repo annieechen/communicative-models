{
 "cells": [
  {
   "cell_type": "code",
   "execution_count": 1,
   "metadata": {},
   "outputs": [],
   "source": [
    "from gridworld_agent import *\n",
    "from reward_guesser import *"
   ]
  },
  {
   "cell_type": "code",
   "execution_count": 2,
   "metadata": {
    "collapsed": true
   },
   "outputs": [],
   "source": [
    "# %load_ext autoreload\n",
    "# %autoreload 2\n",
    "\n",
    "# from IPython.core.interactiveshell import InteractiveShell\n",
    "# InteractiveShell.ast_node_interactivity = \"all\""
   ]
  },
  {
   "cell_type": "code",
   "execution_count": 10,
   "metadata": {},
   "outputs": [
    {
     "name": "stdout",
     "output_type": "stream",
     "text": [
      "best move at each state\n",
      "[['L' 'L' 'L' 'L']\n",
      " ['U' 'U' 'U' 'L']\n",
      " ['U' 'U' 'U' 'U']\n",
      " ['U' 'U' 'U' 'U']]\n",
      "path from (1, 4)\n",
      "(1, 4)UR\n",
      "(2, 3)UR\n",
      "(3, 2)UL\n",
      "(2, 1)L\n",
      "(1, 1)L\n"
     ]
    },
    {
     "data": {
      "image/png": "[encoded data removed]",
      "text/plain": [
       "<matplotlib.figure.Figure at 0x10a1b3350>"
      ]
     },
     "metadata": {},
     "output_type": "display_data"
    }
   ],
   "source": [
    "a = GridWorldAgent(width=4,height=4,rewardValues =  {(1,1):10, (1,2): -10, (1,3):-10, (2,2): -10})\n",
    "a.Run()\n",
    "action_list,_, path_list = a.CreatePolicyPath((1,4),max_path_length =5,print_path=True)"
   ]
  },
  {
   "cell_type": "code",
   "execution_count": 15,
   "metadata": {},
   "outputs": [
    {
     "name": "stdout",
     "output_type": "stream",
     "text": [
      "0.016666666666666666\n",
      "0.008333333333333333\n",
      "guess = [10, 10, 0, 10, -10, 0, 10, -10, 0, 10, 0, 10, 0, 0, 0, 0]\n",
      "actual = [ 10   0   0   0 -10 -10   0   0 -10   0   0   0   0   0   0   0]\n"
     ]
    },
    {
     "data": {
      "text/plain": [
       "False"
      ]
     },
     "execution_count": 15,
     "metadata": {},
     "output_type": "execute_result"
    },
    {
     "data": {
      "image/png": "[encoded data removed]",
      "text/plain": [
       "<matplotlib.figure.Figure at 0x10a724250>"
      ]
     },
     "metadata": {},
     "output_type": "display_data"
    }
   ],
   "source": [
    "%matplotlib inline\n",
    "c = RewardGuesser(a.map.T, a.map.S, a.r, action_list, path_list, 4,4)\n",
    "c.validate(num_samples = 100, display=True)"
   ]
  },
  {
   "cell_type": "code",
   "execution_count": 5,
   "metadata": {},
   "outputs": [
    {
     "name": "stdout",
     "output_type": "stream",
     "text": [
      "best move at each state\n",
      "[['R' 'U' 'L' 'L']\n",
      " ['U' 'U' 'U' 'L']\n",
      " ['U' 'U' 'U' 'U']\n",
      " ['U' 'U' 'U' 'U']]\n",
      "path from (1, 4)\n",
      "(1, 4)U\n",
      "(1, 3)U\n",
      "(1, 2)UR\n",
      "(2, 1)U\n",
      "(2, 1)U\n"
     ]
    },
    {
     "data": {
      "image/png": "[encoded data removed]",
      "text/plain": [
       "<matplotlib.figure.Figure at 0x10a12c310>"
      ]
     },
     "metadata": {},
     "output_type": "display_data"
    }
   ],
   "source": [
    "a = GridWorldAgent(width=4,height=4,rewardValues =  {(2,1):10})#, (2,2): -10, (3,2): 10, (2,3):10})\n",
    "a.Run()\n",
    "action_list,_, path_list = a.CreatePolicyPath((1,4),max_path_length =5,print_path=True)"
   ]
  },
  {
   "cell_type": "code",
   "execution_count": 6,
   "metadata": {},
   "outputs": [
    {
     "name": "stdout",
     "output_type": "stream",
     "text": [
      "guesses = ['[10  0  0  0  0  0  0  0  0  0  0  0  0  0  0  0]']\n",
      "actual = [10  0  0  0  0  0  0  0  0  0  0  0  0  0  0  0]\n",
      "correct\n",
      "guesses = ['[10  0  0  0  0  0  0  0  0  0  0  0  0  0  0  0]']\n",
      "actual = [10  0  0  0  0  0  0  0  0  0  0  0  0  0  0  0]\n",
      "correct\n",
      "guesses = ['[ 0  0  0  0 10  0  0  0  0  0  0  0  0  0  0  0]']\n",
      "actual = [ 0  0  0  0 10  0  0  0  0  0  0  0  0  0  0  0]\n",
      "correct\n",
      "guesses = ['[ 0  0  0  0 10  0  0  0  0  0  0  0  0  0  0  0]']\n",
      "actual = [ 0  0  0  0 10  0  0  0  0  0  0  0  0  0  0  0]\n",
      "correct\n",
      "guesses = ['[ 0  0  0  0  0  0  0  0 10  0  0  0  0  0  0  0]']\n",
      "actual = [ 0  0  0  0  0  0  0  0 10  0  0  0  0  0  0  0]\n",
      "correct\n",
      "guesses = ['[ 0  0  0  0  0  0  0  0 10  0  0  0  0  0  0  0]']\n",
      "actual = [ 0  0  0  0  0  0  0  0 10  0  0  0  0  0  0  0]\n",
      "correct\n",
      "guesses = ['[ 0  0  0  0  0  0  0  0  0  0  0  0 10  0  0  0]']\n",
      "actual = [ 0  0  0  0  0  0  0  0  0  0  0  0 10  0  0  0]\n",
      "correct\n",
      "guesses = ['[ 0  0  0  0  0  0  0  0  0  0  0  0 10  0  0  0]']\n",
      "actual = [ 0  0  0  0  0  0  0  0  0  0  0  0 10  0  0  0]\n",
      "correct\n",
      "guesses = ['[ 0 10  0  0  0  0  0  0  0  0  0  0  0  0  0  0]']\n",
      "actual = [ 0 10  0  0  0  0  0  0  0  0  0  0  0  0  0  0]\n",
      "correct\n",
      "guesses = ['[ 0 10  0  0  0  0  0  0  0  0  0  0  0  0  0  0]']\n",
      "actual = [ 0 10  0  0  0  0  0  0  0  0  0  0  0  0  0  0]\n",
      "correct\n",
      "guesses = ['[ 0  0  0  0  0 10  0  0  0  0  0  0  0  0  0  0]']\n",
      "actual = [ 0  0  0  0  0 10  0  0  0  0  0  0  0  0  0  0]\n",
      "correct\n",
      "guesses = ['[ 0  0  0  0  0 10  0  0  0  0  0  0  0  0  0  0]']\n",
      "actual = [ 0  0  0  0  0 10  0  0  0  0  0  0  0  0  0  0]\n",
      "correct\n",
      "guesses = ['[ 0  0  0  0  0  0  0  0  0 10  0  0  0  0  0  0]']\n",
      "actual = [ 0  0  0  0  0  0  0  0  0 10  0  0  0  0  0  0]\n",
      "correct\n",
      "guesses = ['[ 0  0  0  0  0  0  0  0  0 10  0  0  0  0  0  0]']\n",
      "actual = [ 0  0  0  0  0  0  0  0  0 10  0  0  0  0  0  0]\n",
      "correct\n",
      "guesses = ['[ 0  0  0  0  0  0  0  0  0  0  0  0  0 10  0  0]']\n",
      "actual = [ 0  0  0  0  0  0  0  0  0  0  0  0  0 10  0  0]\n",
      "correct\n",
      "guesses = ['[ 0  0  0  0  0  0  0  0  0  0  0  0  0 10  0  0]']\n",
      "actual = [ 0  0  0  0  0  0  0  0  0  0  0  0  0 10  0  0]\n",
      "correct\n",
      "guesses = ['[ 0  0 10  0  0  0  0  0  0  0  0  0  0  0  0  0]']\n",
      "actual = [ 0  0 10  0  0  0  0  0  0  0  0  0  0  0  0  0]\n",
      "correct\n",
      "guesses = ['[ 0  0 10  0  0  0  0  0  0  0  0  0  0  0  0  0]']\n",
      "actual = [ 0  0 10  0  0  0  0  0  0  0  0  0  0  0  0  0]\n",
      "correct\n",
      "guesses = ['[ 0  0  0  0  0  0 10  0  0  0  0  0  0  0  0  0]']\n",
      "actual = [ 0  0  0  0  0  0 10  0  0  0  0  0  0  0  0  0]\n",
      "correct\n",
      "guesses = ['[ 0  0  0  0  0  0 10  0  0  0  0  0  0  0  0  0]']\n",
      "actual = [ 0  0  0  0  0  0 10  0  0  0  0  0  0  0  0  0]\n",
      "correct\n",
      "guesses = ['[ 0  0  0  0  0  0  0  0  0  0 10  0  0  0  0  0]']\n",
      "actual = [ 0  0  0  0  0  0  0  0  0  0 10  0  0  0  0  0]\n",
      "correct\n",
      "guesses = ['[ 0  0  0  0  0  0  0  0  0 10  0  0  0  0  0  0]']\n",
      "actual = [ 0  0  0  0  0  0  0  0  0  0 10  0  0  0  0  0]\n",
      "failed on:\n",
      "path from (4, 4)\n",
      "(4, 4)UL\n",
      "(3, 3)L\n",
      "(2, 3)R\n",
      "(3, 3)L\n",
      "(2, 3)R\n",
      "(3, 3)L\n",
      "(2, 3)R\n",
      "(3, 3)L\n"
     ]
    },
    {
     "data": {
      "image/png": "[encoded data removed]",
      "text/plain": [
       "<matplotlib.figure.Figure at 0x10a40b410>"
      ]
     },
     "metadata": {},
     "output_type": "display_data"
    },
    {
     "name": "stdout",
     "output_type": "stream",
     "text": [
      "guesses = ['[ 0  0  0  0  0  0  0  0  0  0  0  0  0  0 10  0]']\n",
      "actual = [ 0  0  0  0  0  0  0  0  0  0  0  0  0  0 10  0]\n",
      "correct\n",
      "guesses = ['[ 0  0  0  0  0  0  0  0  0  0  0  0  0  0 10  0]']\n",
      "actual = [ 0  0  0  0  0  0  0  0  0  0  0  0  0  0 10  0]\n",
      "correct\n",
      "guesses = ['[ 0  0  0 10  0  0  0  0  0  0  0  0  0  0  0  0]']\n",
      "actual = [ 0  0  0 10  0  0  0  0  0  0  0  0  0  0  0  0]\n",
      "correct\n",
      "guesses = ['[ 0  0  0 10  0  0  0  0  0  0  0  0  0  0  0  0]']\n",
      "actual = [ 0  0  0 10  0  0  0  0  0  0  0  0  0  0  0  0]\n",
      "correct\n",
      "guesses = ['[ 0  0  0  0  0  0  0 10  0  0  0  0  0  0  0  0]']\n",
      "actual = [ 0  0  0  0  0  0  0 10  0  0  0  0  0  0  0  0]\n",
      "correct\n",
      "guesses = ['[ 0  0  0  0  0  0  0 10  0  0  0  0  0  0  0  0]']\n",
      "actual = [ 0  0  0  0  0  0  0 10  0  0  0  0  0  0  0  0]\n",
      "correct\n",
      "guesses = ['[ 0  0  0  0  0  0  0  0  0  0  0 10  0  0  0  0]']\n",
      "actual = [ 0  0  0  0  0  0  0  0  0  0  0 10  0  0  0  0]\n",
      "correct\n",
      "guesses = ['[ 0  0  0  0  0  0  0  0  0  0  0 10  0  0  0  0]']\n",
      "actual = [ 0  0  0  0  0  0  0  0  0  0  0 10  0  0  0  0]\n",
      "correct\n",
      "guesses = ['[ 0  0  0  0  0  0  0  0  0  0  0  0  0  0  0 10]']\n",
      "actual = [ 0  0  0  0  0  0  0  0  0  0  0  0  0  0  0 10]\n",
      "correct\n",
      "guesses = ['[ 0  0  0  0  0  0  0  0  0  0  0  0  0  0  0 10]']\n",
      "actual = [ 0  0  0  0  0  0  0  0  0  0  0  0  0  0  0 10]\n",
      "correct\n"
     ]
    }
   ],
   "source": [
    "for i in range(1,5):\n",
    "    for j in range(1,5):\n",
    "        for k in [(1,1), (4,4)]:\n",
    "            a = GridWorldAgent(width=4,height=4,rewardValues =  {(i,j):10})\n",
    "            action_list,_,path_list = a.CreatePolicyPath(k, max_path_length = 8,print_path=False)\n",
    "            c = RewardGuesser(a.map.T, a.map.S, a.r, action_list, path_list,4,4)\n",
    "            if not c.simpleValidate():\n",
    "                print(\"failed on:\")\n",
    "                a.CreatePolicyPath(k, max_path_length = 8,print_path=True)\n",
    "            else:\n",
    "                print(\"correct\")"
   ]
  },
  {
   "cell_type": "code",
   "execution_count": 7,
   "metadata": {},
   "outputs": [
    {
     "name": "stdout",
     "output_type": "stream",
     "text": [
      "best move at each state\n",
      "[['L' 'L' 'L' 'L']\n",
      " ['L' 'L' 'L' 'L']\n",
      " ['L' 'L' 'R' 'L']\n",
      " ['L' 'L' 'L' 'L']]\n"
     ]
    },
    {
     "data": {
      "image/png": "[encoded data removed]",
      "text/plain": [
       "<matplotlib.figure.Figure at 0x10a501dd0>"
      ]
     },
     "metadata": {},
     "output_type": "display_data"
    }
   ],
   "source": [
    "# a = GridWorldAgent(width=4,height=4,rewardValues =  {(2,3):-10})\n",
    "# a.Run(display = True)"
   ]
  },
  {
   "cell_type": "code",
   "execution_count": 8,
   "metadata": {},
   "outputs": [
    {
     "ename": "TypeError",
     "evalue": "guessReward() takes exactly 2 arguments (3 given)",
     "output_type": "error",
     "traceback": [
      "\u001b[0;31m---------------------------------------------------------------------------\u001b[0m",
      "\u001b[0;31mTypeError\u001b[0m                                 Traceback (most recent call last)",
      "\u001b[0;32m<ipython-input-8-c9e0c2815613>\u001b[0m in \u001b[0;36m<module>\u001b[0;34m()\u001b[0m\n\u001b[0;32m----> 1\u001b[0;31m \u001b[0mc\u001b[0m\u001b[0;34m.\u001b[0m\u001b[0mguessReward\u001b[0m\u001b[0;34m(\u001b[0m\u001b[0maction_list\u001b[0m\u001b[0;34m,\u001b[0m \u001b[0mpath_list\u001b[0m\u001b[0;34m)\u001b[0m\u001b[0;34m\u001b[0m\u001b[0m\n\u001b[0m",
      "\u001b[0;31mTypeError\u001b[0m: guessReward() takes exactly 2 arguments (3 given)"
     ]
    }
   ],
   "source": [
    "# c.guessReward(action_list, path_list)"
   ]
  },
  {
   "cell_type": "code",
   "execution_count": null,
   "metadata": {},
   "outputs": [],
   "source": [
    "# b = GridWorldAgent(width=3,height=3,rewardValues =  {(2,2):40})\n",
    "# b.Run()\n",
    "\n",
    "\n",
    "# action_list,_, path_list = b.CreatePolicyPath((1,1),max_path_length = 5,  print_path=True)"
   ]
  },
  {
   "cell_type": "code",
   "execution_count": null,
   "metadata": {},
   "outputs": [],
   "source": [
    "# d = RewardGuesser(b.map.T, b.map.S)\n",
    "# d.guessReward(action_list, path_list)"
   ]
  },
  {
   "cell_type": "code",
   "execution_count": null,
   "metadata": {
    "collapsed": true
   },
   "outputs": [],
   "source": []
  }
 ],
 "metadata": {
  "kernelspec": {
   "display_name": "Python 2",
   "language": "python",
   "name": "python2"
  },
  "language_info": {
   "codemirror_mode": {
    "name": "ipython",
    "version": 2
   },
   "file_extension": ".py",
   "mimetype": "text/x-python",
   "name": "python",
   "nbconvert_exporter": "python",
   "pygments_lexer": "ipython2",
   "version": "2.7.14"
  }
 },
 "nbformat": 4,
 "nbformat_minor": 2
}

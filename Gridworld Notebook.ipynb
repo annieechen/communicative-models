{
 "cells": [
  {
   "cell_type": "code",
   "execution_count": 2,
   "metadata": {},
   "outputs": [],
   "source": [
    "from gridworld_agent import *\n",
    "from reward_guesser import *"
   ]
  },
  {
   "cell_type": "code",
   "execution_count": null,
   "metadata": {
    "collapsed": true
   },
   "outputs": [],
   "source": [
    "%load_ext autoreload\n",
    "# %autoreload 2\n",
    "\n",
    "# from IPython.core.interactiveshell import InteractiveShell\n",
    "# InteractiveShell.ast_node_interactivity = \"all\""
   ]
  },
  {
   "cell_type": "code",
   "execution_count": 3,
   "metadata": {},
   "outputs": [
    {
     "name": "stdout",
     "output_type": "stream",
     "text": [
      "coord: (2, 2) state: 11 val: 10\n",
      "Validating MDP...\n",
      "coord: (1, 1) state: 0 val: 10\n",
      "coord: (3, 3) state: 8 val: -10\n",
      "Validating MDP...\n"
     ]
    }
   ],
   "source": [
    "a = GridWorldAgent(False, 10,10,rewardValues =  {(2,2):10})\n",
    "b = GridWorldAgent(True, 3,3)"
   ]
  },
  {
   "cell_type": "code",
   "execution_count": 4,
   "metadata": {},
   "outputs": [
    {
     "name": "stdout",
     "output_type": "stream",
     "text": [
      "best move at each state\n",
      "[['D' 'D' 'D' 'L' 'L' 'L' 'L' 'L' 'L' 'L']\n",
      " ['R' 'L' 'L' 'L' 'L' 'L' 'L' 'L' 'L' 'L']\n",
      " ['U' 'U' 'U' 'L' 'L' 'L' 'L' 'L' 'L' 'L']\n",
      " ['U' 'U' 'U' 'U' 'L' 'L' 'L' 'L' 'L' 'L']\n",
      " ['U' 'U' 'U' 'U' 'U' 'L' 'L' 'L' 'L' 'L']\n",
      " ['U' 'U' 'U' 'U' 'U' 'U' 'L' 'L' 'L' 'L']\n",
      " ['U' 'U' 'U' 'U' 'U' 'U' 'U' 'L' 'L' 'L']\n",
      " ['U' 'U' 'U' 'U' 'U' 'U' 'U' 'U' 'L' 'L']\n",
      " ['U' 'U' 'U' 'U' 'U' 'U' 'U' 'U' 'U' 'L']\n",
      " ['U' 'U' 'U' 'U' 'U' 'U' 'U' 'U' 'U' 'U']]\n",
      "best move at each state\n",
      "[['L' 'L' 'L']\n",
      " ['L' 'L' 'L']\n",
      " ['U' 'U' 'U']]\n"
     ]
    }
   ],
   "source": [
    "a.Run()\n",
    "b.Run()"
   ]
  },
  {
   "cell_type": "code",
   "execution_count": null,
   "metadata": {
    "collapsed": true,
    "scrolled": true
   },
   "outputs": [],
   "source": [
    "# b.Run()"
   ]
  },
  {
   "cell_type": "code",
   "execution_count": 5,
   "metadata": {},
   "outputs": [
    {
     "name": "stdout",
     "output_type": "stream",
     "text": [
      "(9, 9)4\n",
      "(8, 8)4\n",
      "(7, 7)4\n",
      "(6, 6)4\n",
      "(5, 5)4\n",
      "(4, 4)4\n",
      "(3, 3)4\n",
      "(2, 2)0\n",
      "(1, 2)1\n",
      "(2, 2)0\n",
      "(1, 2)1\n",
      "(2, 2)0\n"
     ]
    },
    {
     "data": {
      "image/png": "[encoded data removed]",
      "text/plain": [
       "<matplotlib.figure.Figure at 0x10ef33b10>"
      ]
     },
     "metadata": {},
     "output_type": "display_data"
    }
   ],
   "source": [
    "action_list, path_list = a.CreatePolicyPath((9,9),max_path_length = 12,  print_path=True)"
   ]
  },
  {
   "cell_type": "code",
   "execution_count": 6,
   "metadata": {
    "collapsed": true
   },
   "outputs": [],
   "source": [
    "c = RewardGuesser(a.map.T, a.map.S)"
   ]
  },
  {
   "cell_type": "code",
   "execution_count": null,
   "metadata": {},
   "outputs": [
    {
     "name": "stdout",
     "output_type": "stream",
     "text": [
      "i is 0\n",
      "[0. 0.]\n",
      "[0. 0.]\n",
      "[0. 0.]\n",
      "[0. 0.]\n",
      "[0. 0.]\n",
      "[0. 0.]\n",
      "[0. 0.]\n",
      "[0.5 0.5]\n",
      "[0. 0.]\n",
      "[0.5 0.5]\n",
      "[0. 0.]\n",
      "[0.5 0.5]\n",
      "i is 1\n",
      "[0. 0.]\n",
      "[0. 0.]\n",
      "[0. 0.]\n",
      "[0. 0.]\n",
      "[0. 0.]\n",
      "[0. 0.]\n",
      "[0. 0.]\n",
      "[1. 1.]\n",
      "[0. 0.]\n",
      "[1. 1.]\n",
      "[0. 0.]\n",
      "[1. 1.]\n",
      "i is 2\n",
      "[0. 0.]\n",
      "[0. 0.]\n",
      "[0. 0.]\n",
      "[0. 0.]\n",
      "[0. 0.]\n",
      "[0. 0.]\n",
      "[0. 0.]\n",
      "[0. 0.]\n",
      "[1. 0.]\n",
      "[0. 0.]\n",
      "[1. 0.]\n",
      "[0. 0.]\n",
      "i is 3\n",
      "[0. 0.]\n",
      "[0. 0.]\n",
      "[0. 0.]\n",
      "[0. 0.]\n",
      "[0. 0.]\n",
      "[0. 0.]\n",
      "[0.33333333 0.33333333]\n",
      "[0. 0.]\n",
      "[0.5 1. ]\n",
      "[0. 0.]\n",
      "[0.5 1. ]\n",
      "[0. 0.]\n",
      "i is 4\n",
      "[0. 0.]\n",
      "[0. 0.]\n",
      "[0. 0.]\n",
      "[0. 0.]\n",
      "[0. 0.]\n",
      "[0.33333333 0.33333333]\n",
      "[0. 0.]\n",
      "[0. 0.]\n",
      "[0.5 0.5]\n",
      "[0. 0.]\n",
      "[0.5 0.5]\n",
      "[0. 0.]\n",
      "i is 5\n",
      "[0. 0.]\n",
      "[0. 0.]\n",
      "[0. 0.]\n",
      "[0. 0.]\n",
      "[0.33333333 0.33333333]\n",
      "[0. 0.]\n",
      "[0. 0.]\n",
      "[0. 0.]\n",
      "[0.5 0.5]\n",
      "[0. 0.]\n",
      "[0.5 0.5]\n",
      "[0. 0.]\n",
      "i is 6\n",
      "[0. 0.]\n",
      "[0. 0.]\n",
      "[0. 0.]\n",
      "[0.33333333 0.33333333]\n",
      "[0. 0.]\n",
      "[0. 0.]\n",
      "[0. 0.]\n",
      "[0. 0.]\n",
      "[0.5 0.5]\n",
      "[0. 0.]\n",
      "[0.5 0.5]\n",
      "[0. 0.]\n",
      "i is 7\n",
      "[0. 0.]\n",
      "[0. 0.]\n",
      "[0.33333333 0.33333333]\n",
      "[0. 0.]\n",
      "[0. 0.]\n",
      "[0. 0.]\n",
      "[0. 0.]\n",
      "[0. 0.]\n",
      "[0.5 0.5]\n",
      "[0. 0.]\n",
      "[0.5 0.5]\n",
      "[0. 0.]\n",
      "i is 8\n",
      "[0. 0.]\n",
      "[0.33333333 0.33333333]\n",
      "[0. 0.]\n",
      "[0. 0.]\n",
      "[0. 0.]\n",
      "[0. 0.]\n",
      "[0. 0.]\n",
      "[0. 0.]\n",
      "[0.5 0.5]\n",
      "[0. 0.]\n",
      "[0.5 0.5]\n",
      "[0. 0.]\n",
      "i is 9\n",
      "[0.2 0.2]\n",
      "[0. 0.]\n",
      "[0. 0.]\n",
      "[0. 0.]\n",
      "[0. 0.]\n",
      "[0. 0.]\n",
      "[0. 0.]\n",
      "[0. 0.]\n",
      "[0.5 0.5]\n",
      "[0. 0.]\n",
      "[0.5 0.5]\n",
      "[0. 0.]\n",
      "i is 10\n",
      "[0. 0.]\n",
      "[0. 0.]\n",
      "[0. 0.]\n",
      "[0. 0.]\n",
      "[0. 0.]\n",
      "[0. 0.]\n",
      "[0. 0.]\n",
      "[0.5 0.5]\n",
      "[0. 0.]\n",
      "[0.5 0.5]\n",
      "[0. 0.]\n",
      "[0.5 0.5]\n",
      "i is 11\n"
     ]
    }
   ],
   "source": [
    "c.guessReward(action_list, path_list)"
   ]
  },
  {
   "cell_type": "code",
   "execution_count": null,
   "metadata": {},
   "outputs": [],
   "source": [
    "action_list, path_list = b.CreatePolicyPath((3,1),max_path_length = 4,  print_path=True)"
   ]
  },
  {
   "cell_type": "code",
   "execution_count": null,
   "metadata": {},
   "outputs": [],
   "source": [
    "d = RewardGuesser(a.map.T, a.map.S)\n",
    "d.guessReward(action_list, path_list)"
   ]
  },
  {
   "cell_type": "code",
   "execution_count": null,
   "metadata": {
    "collapsed": true
   },
   "outputs": [],
   "source": []
  }
 ],
 "metadata": {
  "kernelspec": {
   "display_name": "Python 2",
   "language": "python",
   "name": "python2"
  },
  "language_info": {
   "codemirror_mode": {
    "name": "ipython",
    "version": 2
   },
   "file_extension": ".py",
   "mimetype": "text/x-python",
   "name": "python",
   "nbconvert_exporter": "python",
   "pygments_lexer": "ipython2",
   "version": "2.7.14"
  }
 },
 "nbformat": 4,
 "nbformat_minor": 2
}

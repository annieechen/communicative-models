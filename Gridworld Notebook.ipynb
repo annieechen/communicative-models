{
 "cells": [
  {
   "cell_type": "code",
   "execution_count": 1,
   "metadata": {},
   "outputs": [],
   "source": [
    "from gridworld_agent import *\n",
    "from reward_guesser import *"
   ]
  },
  {
   "cell_type": "code",
   "execution_count": 2,
   "metadata": {},
   "outputs": [],
   "source": [
    "%load_ext autoreload\n",
    "# %autoreload 2\n",
    "\n",
    "# from IPython.core.interactiveshell import InteractiveShell\n",
    "# InteractiveShell.ast_node_interactivity = \"all\""
   ]
  },
  {
   "cell_type": "code",
   "execution_count": 11,
   "metadata": {},
   "outputs": [
    {
     "name": "stdout",
     "output_type": "stream",
     "text": [
      "coord: (1, 1) state: 0 val: 10\n",
      "coord: (3, 3) state: 8 val: -10\n",
      "Validating MDP...\n",
      "coord: (1, 1) state: 0 val: 10\n",
      "coord: (3, 3) state: 8 val: -10\n",
      "Validating MDP...\n"
     ]
    }
   ],
   "source": [
    "a = GridWorldAgent(False, 3,3)\n",
    "b = GridWorldAgent(True, 3,3)# rewardValues =  {(2,2):10})"
   ]
  },
  {
   "cell_type": "code",
   "execution_count": 12,
   "metadata": {},
   "outputs": [
    {
     "name": "stdout",
     "output_type": "stream",
     "text": [
      "best move at each state\n",
      "[['L' 'L' 'L']\n",
      " ['U' 'U' 'L']\n",
      " ['U' 'U' 'U']]\n"
     ]
    },
    {
     "data": {
      "image/png": "[encoded data removed]",
      "text/plain": [
       "<matplotlib.figure.Figure at 0x108ff3790>"
      ]
     },
     "metadata": {},
     "output_type": "display_data"
    },
    {
     "name": "stdout",
     "output_type": "stream",
     "text": [
      "best move at each state\n",
      "[['L' 'L' 'L']\n",
      " ['L' 'L' 'L']\n",
      " ['U' 'U' 'U']]\n"
     ]
    },
    {
     "data": {
      "image/png": "[encoded data removed]",
      "text/plain": [
       "<matplotlib.figure.Figure at 0x10904ebd0>"
      ]
     },
     "metadata": {},
     "output_type": "display_data"
    }
   ],
   "source": [
    "a.Run()\n",
    "b.Run()"
   ]
  },
  {
   "cell_type": "code",
   "execution_count": 5,
   "metadata": {
    "scrolled": true
   },
   "outputs": [],
   "source": [
    "# b.Run()"
   ]
  },
  {
   "cell_type": "code",
   "execution_count": 6,
   "metadata": {},
   "outputs": [
    {
     "name": "stdout",
     "output_type": "stream",
     "text": [
      "(3, 3)4\n",
      "(2, 2)4\n",
      "(1, 1)0\n",
      "(1, 1)0\n"
     ]
    },
    {
     "data": {
      "image/png": "[encoded data removed]",
      "text/plain": [
       "<matplotlib.figure.Figure at 0x108f7b8d0>"
      ]
     },
     "metadata": {},
     "output_type": "display_data"
    }
   ],
   "source": [
    "action_list, path_list = a.CreatePolicyPath((3,3),max_path_length = 4,  print_path=True)"
   ]
  },
  {
   "cell_type": "code",
   "execution_count": 7,
   "metadata": {
    "collapsed": true
   },
   "outputs": [],
   "source": [
    "c = RewardGuesser(a.map.T, a.map.S)"
   ]
  },
  {
   "cell_type": "code",
   "execution_count": 8,
   "metadata": {},
   "outputs": [
    {
     "name": "stdout",
     "output_type": "stream",
     "text": [
      "(8, 9)\n",
      "(8, 9)\n",
      "(8, 9)\n",
      "(8, 9)\n",
      "(8, 9)\n",
      "(8, 9)\n",
      "(8, 9)\n",
      "(8, 9)\n",
      "(8, 9)\n"
     ]
    },
    {
     "data": {
      "text/plain": [
       "{0: array([5.22823585e-173, 5.22823585e-173]),\n",
       " 1: array([0., 0.]),\n",
       " 2: array([0., 0.]),\n",
       " 3: array([2.41177914e-260, 2.41177914e-260]),\n",
       " 4: array([3.37541945e-176, 3.37541945e-176]),\n",
       " 5: array([0., 0.]),\n",
       " 6: array([0., 0.]),\n",
       " 7: array([0., 0.]),\n",
       " 8: array([0., 0.])}"
      ]
     },
     "execution_count": 8,
     "metadata": {},
     "output_type": "execute_result"
    }
   ],
   "source": [
    "c.guessReward(action_list, path_list)"
   ]
  },
  {
   "cell_type": "code",
   "execution_count": 9,
   "metadata": {},
   "outputs": [
    {
     "name": "stdout",
     "output_type": "stream",
     "text": [
      "(3, 1)0\n",
      "(2, 1)0\n",
      "(1, 1)0\n",
      "(1, 1)0\n"
     ]
    },
    {
     "data": {
      "image/png": "[encoded data removed]",
      "text/plain": [
       "<matplotlib.figure.Figure at 0x108fd5050>"
      ]
     },
     "metadata": {},
     "output_type": "display_data"
    }
   ],
   "source": [
    "action_list, path_list = b.CreatePolicyPath((3,1),max_path_length = 4,  print_path=True)"
   ]
  },
  {
   "cell_type": "code",
   "execution_count": 10,
   "metadata": {},
   "outputs": [
    {
     "name": "stdout",
     "output_type": "stream",
     "text": [
      "(8, 9)\n",
      "(8, 9)\n",
      "(8, 9)\n",
      "(8, 9)\n",
      "(8, 9)\n",
      "(8, 9)\n",
      "(8, 9)\n",
      "(8, 9)\n",
      "(8, 9)\n"
     ]
    },
    {
     "data": {
      "text/plain": [
       "{0: array([6.91948263e-88, 1.00000000e+00]),\n",
       " 1: array([2.94488506e-262, 0.00000000e+000]),\n",
       " 2: array([0., 0.]),\n",
       " 3: array([3.19194933e-175, 0.00000000e+000]),\n",
       " 4: array([3.37541945e-176, 3.37541945e-176]),\n",
       " 5: array([0., 0.]),\n",
       " 6: array([0., 0.]),\n",
       " 7: array([0., 0.]),\n",
       " 8: array([0., 0.])}"
      ]
     },
     "execution_count": 10,
     "metadata": {},
     "output_type": "execute_result"
    }
   ],
   "source": [
    "d = RewardGuesser(a.map.T, a.map.S)\n",
    "d.guessReward(action_list, path_list)"
   ]
  },
  {
   "cell_type": "code",
   "execution_count": null,
   "metadata": {
    "collapsed": true
   },
   "outputs": [],
   "source": []
  }
 ],
 "metadata": {
  "kernelspec": {
   "display_name": "Python 2",
   "language": "python",
   "name": "python2"
  },
  "language_info": {
   "codemirror_mode": {
    "name": "ipython",
    "version": 2
   },
   "file_extension": ".py",
   "mimetype": "text/x-python",
   "name": "python",
   "nbconvert_exporter": "python",
   "pygments_lexer": "ipython2",
   "version": "2.7.14"
  }
 },
 "nbformat": 4,
 "nbformat_minor": 2
}

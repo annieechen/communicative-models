{
 "cells": [
  {
   "cell_type": "code",
   "execution_count": 1,
   "metadata": {},
   "outputs": [],
   "source": [
    "from gridworld_agent import *\n",
    "from reward_guesser import *"
   ]
  },
  {
   "cell_type": "code",
   "execution_count": 2,
   "metadata": {
    "collapsed": true
   },
   "outputs": [],
   "source": [
    "%load_ext autoreload\n",
    "# %autoreload 2\n",
    "\n",
    "# from IPython.core.interactiveshell import InteractiveShell\n",
    "# InteractiveShell.ast_node_interactivity = \"all\""
   ]
  },
  {
   "cell_type": "code",
   "execution_count": 3,
   "metadata": {},
   "outputs": [
    {
     "name": "stdout",
     "output_type": "stream",
     "text": [
      "coord: (3, 1) state: 2 val: 10\n",
      "Validating MDP...\n"
     ]
    }
   ],
   "source": [
    "a = GridWorldAgent(width=4,height=4,rewardValues =  {(3,1):10})\n",
    "a.Run()"
   ]
  },
  {
   "cell_type": "code",
   "execution_count": 4,
   "metadata": {},
   "outputs": [
    {
     "name": "stdout",
     "output_type": "stream",
     "text": [
      "best move at each state\n",
      "[['R' 'R' 'U' 'L']\n",
      " ['R' 'U' 'U' 'U']\n",
      " ['U' 'U' 'U' 'U']\n",
      " ['U' 'U' 'U' 'U']]\n"
     ]
    }
   ],
   "source": []
  },
  {
   "cell_type": "code",
   "execution_count": 5,
   "metadata": {},
   "outputs": [
    {
     "name": "stdout",
     "output_type": "stream",
     "text": [
      "(4, 4)2\n",
      "(4, 3)2\n",
      "(4, 2)4\n",
      "(3, 1)2\n",
      "(3, 1)2\n",
      "(3, 1)2\n",
      "(3, 1)2\n",
      "(3, 1)2\n",
      "(3, 1)2\n",
      "(3, 1)2\n",
      "(3, 1)2\n",
      "(3, 1)2\n"
     ]
    },
    {
     "data": {
      "image/png": "[encoded data removed]",
      "text/plain": [
       "<matplotlib.figure.Figure at 0x10edf6490>"
      ]
     },
     "metadata": {},
     "output_type": "display_data"
    }
   ],
   "source": [
    "action_list,_, path_list = a.CreatePolicyPath((4,4),max_path_length = 12,  print_path=True)"
   ]
  },
  {
   "cell_type": "code",
   "execution_count": 6,
   "metadata": {
    "collapsed": true
   },
   "outputs": [],
   "source": [
    "c = RewardGuesser(a.map.T, a.map.S)"
   ]
  },
  {
   "cell_type": "code",
   "execution_count": 7,
   "metadata": {},
   "outputs": [
    {
     "name": "stdout",
     "output_type": "stream",
     "text": [
      "best prob states [2]=2\n"
     ]
    },
    {
     "data": {
      "text/plain": [
       "{0: 0.0,\n",
       " 1: 0.0,\n",
       " 2: 1.270131585632271e-05,\n",
       " 3: 0.0,\n",
       " 4: 0.0,\n",
       " 5: 0.0,\n",
       " 6: 0.0,\n",
       " 7: 0.0,\n",
       " 8: 0.0,\n",
       " 9: 0.0,\n",
       " 10: 0.0,\n",
       " 11: 0.0,\n",
       " 12: 0.0,\n",
       " 13: 0.0,\n",
       " 14: 0.0,\n",
       " 15: 0.0}"
      ]
     },
     "execution_count": 7,
     "metadata": {},
     "output_type": "execute_result"
    }
   ],
   "source": [
    "c.guessReward(action_list, path_list)"
   ]
  },
  {
   "cell_type": "code",
   "execution_count": 10,
   "metadata": {},
   "outputs": [
    {
     "name": "stdout",
     "output_type": "stream",
     "text": [
      "coord: (2, 2) state: 4 val: 40\n",
      "Validating MDP...\n",
      "best move at each state\n",
      "[['D' 'D' 'D']\n",
      " ['R' 'L' 'L']\n",
      " ['U' 'U' 'U']]\n",
      "(1, 1)7\n",
      "(2, 2)0\n",
      "(1, 2)1\n",
      "(2, 2)0\n",
      "(1, 2)1\n"
     ]
    },
    {
     "data": {
      "image/png": "[encoded data removed]",
      "text/plain": [
       "<matplotlib.figure.Figure at 0x1108e7d90>"
      ]
     },
     "metadata": {},
     "output_type": "display_data"
    }
   ],
   "source": [
    "b = GridWorldAgent(width=3,height=3,rewardValues =  {(2,2):40})\n",
    "b.Run()\n",
    "\n",
    "\n",
    "action_list,_, path_list = b.CreatePolicyPath((1,1),max_path_length = 5,  print_path=True)"
   ]
  },
  {
   "cell_type": "code",
   "execution_count": 11,
   "metadata": {},
   "outputs": [
    {
     "name": "stdout",
     "output_type": "stream",
     "text": [
      "best prob states [4]=4\n"
     ]
    },
    {
     "data": {
      "text/plain": [
       "{0: 0.0, 1: 0.0, 2: 0.0, 3: 0.0, 4: 0.015625, 5: 0.0, 6: 0.0, 7: 0.0, 8: 0.0}"
      ]
     },
     "execution_count": 11,
     "metadata": {},
     "output_type": "execute_result"
    }
   ],
   "source": [
    "d = RewardGuesser(b.map.T, b.map.S)\n",
    "d.guessReward(action_list, path_list)"
   ]
  },
  {
   "cell_type": "code",
   "execution_count": null,
   "metadata": {
    "collapsed": true
   },
   "outputs": [],
   "source": []
  }
 ],
 "metadata": {
  "kernelspec": {
   "display_name": "Python 2",
   "language": "python",
   "name": "python2"
  },
  "language_info": {
   "codemirror_mode": {
    "name": "ipython",
    "version": 2
   },
   "file_extension": ".py",
   "mimetype": "text/x-python",
   "name": "python",
   "nbconvert_exporter": "python",
   "pygments_lexer": "ipython2",
   "version": "2.7.14"
  }
 },
 "nbformat": 4,
 "nbformat_minor": 2
}

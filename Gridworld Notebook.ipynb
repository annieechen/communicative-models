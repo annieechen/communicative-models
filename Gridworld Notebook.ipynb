{
 "cells": [
  {
   "cell_type": "code",
   "execution_count": 2,
   "metadata": {
    "collapsed": true
   },
   "outputs": [],
   "source": [
    "from gridworld_agent import *\n",
    "from reward_guesser import *"
   ]
  },
  {
   "cell_type": "code",
   "execution_count": 2,
   "metadata": {
    "collapsed": true
   },
   "outputs": [],
   "source": [
    "# %load_ext autoreload\n",
    "# %autoreload 2\n",
    "\n",
    "# from IPython.core.interactiveshell import InteractiveShell\n",
    "# InteractiveShell.ast_node_interactivity = \"all\""
   ]
  },
  {
   "cell_type": "code",
   "execution_count": 2,
   "metadata": {},
   "outputs": [
    {
     "name": "stdout",
     "output_type": "stream",
     "text": [
      "best move at each state\n",
      "[['D' 'D' 'D' 'L']\n",
      " ['L' 'L' 'L' 'U']\n",
      " ['U' 'U' 'U' 'L']\n",
      " ['U' 'U' 'U' 'U']]\n",
      "path from (4, 4)\n",
      "(4, 4)UL\n",
      "(3, 3)UL\n",
      "(2, 2)L\n",
      "(-1, -1)L\n",
      "(-1, -1)L\n",
      "(-1, -1)L\n"
     ]
    },
    {
     "data": {
      "image/png": "[encoded data removed]",
      "text/plain": [
       "<matplotlib.figure.Figure at 0x10c1b6b50>"
      ]
     },
     "metadata": {},
     "output_type": "display_data"
    }
   ],
   "source": [
    "a = GridWorldAgent(width=4,height=4,rewardValues =  {4:10, 5: 40, 6:30})#, (1,2): 10, (1,3):10, (2,2): -10})\n",
    "a.Run()\n",
    "action_list,_, path_list = a.CreatePolicyPath((4,4),max_path_length =6,print_path=True)"
   ]
  },
  {
   "cell_type": "code",
   "execution_count": 8,
   "metadata": {},
   "outputs": [
    {
     "data": {
      "text/plain": [
       "[4, 4, 0, 0, 0, 0]"
      ]
     },
     "execution_count": 8,
     "metadata": {},
     "output_type": "execute_result"
    }
   ],
   "source": [
    "path_list\n",
    "action_list"
   ]
  },
  {
   "cell_type": "code",
   "execution_count": 3,
   "metadata": {
    "scrolled": true
   },
   "outputs": [
    {
     "name": "stdout",
     "output_type": "stream",
     "text": [
      "0.09859789504036909\n",
      "2.9739583333333335\n",
      "guesses = [0, 5]\n",
      "actual = [ 0  0  0  0 10 40 30  0  0  0  0  0  0  0  0  0  0]\n"
     ]
    },
    {
     "data": {
      "text/plain": [
       "False"
      ]
     },
     "execution_count": 3,
     "metadata": {},
     "output_type": "execute_result"
    }
   ],
   "source": [
    "%matplotlib inline\n",
    "path_list = [15, 10, 5]\n",
    "action_list = [4, 4 ]\n",
    "c = RewardGuesser(a.map.T, a.map.S, a.r, action_list, path_list, 4,4)\n",
    "c.simpleValidate( display=True)"
   ]
  },
  {
   "cell_type": "code",
   "execution_count": 4,
   "metadata": {},
   "outputs": [
    {
     "name": "stdout",
     "output_type": "stream",
     "text": [
      "0.05534832700313581\n",
      "1.126953125\n",
      "guesses = [0]\n",
      "actual = [ 0  0  0  0 10 40 30  0  0  0  0  0  0  0  0  0  0]\n"
     ]
    },
    {
     "data": {
      "text/plain": [
       "False"
      ]
     },
     "execution_count": 4,
     "metadata": {},
     "output_type": "execute_result"
    }
   ],
   "source": [
    "path_list = [15, 10, 5, 0]\n",
    "action_list = [4, 4 , 4]\n",
    "c = RewardGuesser(a.map.T, a.map.S, a.r, action_list, path_list, 4,4)\n",
    "c.simpleValidate( display=True)"
   ]
  },
  {
   "cell_type": "code",
   "execution_count": 5,
   "metadata": {},
   "outputs": [
    {
     "name": "stdout",
     "output_type": "stream",
     "text": [
      "1.3493336608253138e-05\n",
      "0.015869140625\n",
      "guesses = [10]\n",
      "actual = [ 0  0  0  0 10 40 30  0  0  0  0  0  0  0  0  0  0]\n"
     ]
    },
    {
     "data": {
      "text/plain": [
       "False"
      ]
     },
     "execution_count": 5,
     "metadata": {},
     "output_type": "execute_result"
    }
   ],
   "source": [
    "path_list = [15, 10, 5, 10, 15]\n",
    "action_list = [4, 4, 7, 7 ]\n",
    "c = RewardGuesser(a.map.T, a.map.S, a.r, action_list, path_list, 4,4)\n",
    "c.simpleValidate( display=True)"
   ]
  },
  {
   "cell_type": "code",
   "execution_count": 4,
   "metadata": {},
   "outputs": [
    {
     "data": {
      "text/plain": [
       "43"
      ]
     },
     "execution_count": 4,
     "metadata": {},
     "output_type": "execute_result"
    }
   ],
   "source": [
    "len(path_list)"
   ]
  },
  {
   "cell_type": "code",
   "execution_count": 4,
   "metadata": {},
   "outputs": [
    {
     "name": "stdout",
     "output_type": "stream",
     "text": [
      "7.419300572004443e-81\n",
      "1.4693679385278594e-39\n",
      "guesses = [289]\n",
      "actual = [ 0 10  0  0  0  0  0  0  0  0  0  0  0  0  0  0  0  0  0  0  0  0  0  0\n",
      "  0  0  0  0  0  0  0  0  0  0  0  0  0  0  0  0  0  0  0  0  0  0  0  0\n",
      "  0  0  0  0  0  0  0  0  0  0  0  0  0  0  0  0  0  0  0  0  0  0  0  0\n",
      "  0  0  0  0  0  0  0  0  0  0  0  0  0  0  0  0  0  0  0  0  0  0  0  0\n",
      "  0  0  0  0  0  0  0  0  0  0  0  0  0  0  0  0  0  0  0  0  0  0  0  0\n",
      "  0  0  0  0  0  0  0  0  0  0  0  0  0  0  0  0  0  0  0  0  0  0  0  0\n",
      "  0  0  0  0  0  0  0  0  0  0  0  0  0  0  0  0  0  0  0  0  0  0  0  0\n",
      "  0  0  0  0  0  0  0  0  0  0  0  0  0  0  0  0  0  0  0  0  0  0  0  0\n",
      "  0  0  0  0  0  0  0  0  0  0  0  0  0  0  0  0  0  0  0  0  0  0  0  0\n",
      "  0  0  0  0  0  0  0  0  0  0  0  0  0  0  0  0  0  0  0  0  0  0  0  0\n",
      "  0  0  0  0  0  0  0  0  0  0  0  0  0  0  0  0  0  0  0  0  0  0  0  0\n",
      "  0  0  0  0  0  0  0  0  0  0  0  0  0  0  0  0  0  0  0  0  0  0  0  0\n",
      "  0  0]\n"
     ]
    },
    {
     "data": {
      "text/plain": [
       "False"
      ]
     },
     "execution_count": 4,
     "metadata": {},
     "output_type": "execute_result"
    }
   ],
   "source": [
    "import csv\n",
    "with open(\"scaledpath.csv\") as csvfile:\n",
    "            reader = csv.reader(csvfile)\n",
    "            data = list(reader)\n",
    "            data = [(int(x),int(y)) for (x,y) in data]\n",
    "b = GridWorldAgent(width=17,height=17,rewardValues =  {1:10})\n",
    "action_list, path_list = b.takeListGetPath(data)\n",
    "\n",
    "c = RewardGuesser(b.map.T, b.map.S, b.r, action_list, path_list, 17,17)\n",
    "c.simpleValidate( display=True)"
   ]
  },
  {
   "cell_type": "code",
   "execution_count": null,
   "metadata": {},
   "outputs": [],
   "source": [
    "a = GridWorldAgent(width=4,height=4,rewardValues =  {(2,1):10})#, (2,2): -10, (3,2): 10, (2,3):10})\n",
    "a.Run()\n",
    "action_list,_, path_list = a.CreatePolicyPath((1,4),max_path_length =5,print_path=True)"
   ]
  },
  {
   "cell_type": "code",
   "execution_count": null,
   "metadata": {},
   "outputs": [],
   "source": [
    "for i in range(1,5):\n",
    "    for j in range(1,5):\n",
    "        for k in [(1,1), (4,4)]:\n",
    "            a = GridWorldAgent(width=4,height=4,rewardValues =  {(i,j):10})\n",
    "            action_list,_,path_list = a.CreatePolicyPath(k, max_path_length = 8,print_path=False)\n",
    "            c = RewardGuesser(a.map.T, a.map.S, a.r, action_list, path_list,4,4)\n",
    "            if not c.simpleValidate():\n",
    "                print(\"failed on:\")\n",
    "                a.CreatePolicyPath(k, max_path_length = 8,print_path=True)\n",
    "            else:\n",
    "                print(\"correct\")"
   ]
  },
  {
   "cell_type": "code",
   "execution_count": null,
   "metadata": {},
   "outputs": [],
   "source": [
    "# a = GridWorldAgent(width=4,height=4,rewardValues =  {(2,3):-10})\n",
    "# a.Run(display = True)"
   ]
  },
  {
   "cell_type": "code",
   "execution_count": null,
   "metadata": {},
   "outputs": [],
   "source": [
    "# c.guessReward(action_list, path_list)"
   ]
  },
  {
   "cell_type": "code",
   "execution_count": null,
   "metadata": {
    "collapsed": true
   },
   "outputs": [],
   "source": [
    "# b = GridWorldAgent(width=3,height=3,rewardValues =  {(2,2):40})\n",
    "# b.Run()\n",
    "\n",
    "\n",
    "# action_list,_, path_list = b.CreatePolicyPath((1,1),max_path_length = 5,  print_path=True)"
   ]
  },
  {
   "cell_type": "code",
   "execution_count": null,
   "metadata": {
    "collapsed": true
   },
   "outputs": [],
   "source": [
    "# d = RewardGuesser(b.map.T, b.map.S)\n",
    "# d.guessReward(action_list, path_list)"
   ]
  },
  {
   "cell_type": "code",
   "execution_count": null,
   "metadata": {
    "collapsed": true
   },
   "outputs": [],
   "source": []
  }
 ],
 "metadata": {
  "kernelspec": {
   "display_name": "Python 2",
   "language": "python",
   "name": "python2"
  },
  "language_info": {
   "codemirror_mode": {
    "name": "ipython",
    "version": 2
   },
   "file_extension": ".py",
   "mimetype": "text/x-python",
   "name": "python",
   "nbconvert_exporter": "python",
   "pygments_lexer": "ipython2",
   "version": "2.7.14"
  }
 },
 "nbformat": 4,
 "nbformat_minor": 2
}

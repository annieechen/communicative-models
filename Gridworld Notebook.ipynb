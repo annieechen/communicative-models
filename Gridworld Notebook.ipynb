{
 "cells": [
  {
   "cell_type": "code",
   "execution_count": 1,
   "metadata": {},
   "outputs": [],
   "source": [
    "from gridworld_agent import *\n",
    "from reward_guesser import *"
   ]
  },
  {
   "cell_type": "code",
   "execution_count": null,
   "metadata": {
    "collapsed": true
   },
   "outputs": [],
   "source": [
    "%load_ext autoreload\n",
    "# %autoreload 2\n",
    "\n",
    "# from IPython.core.interactiveshell import InteractiveShell\n",
    "# InteractiveShell.ast_node_interactivity = \"all\""
   ]
  },
  {
   "cell_type": "code",
   "execution_count": 2,
   "metadata": {},
   "outputs": [
    {
     "name": "stdout",
     "output_type": "stream",
     "text": [
      "best move at each state\n",
      "[['R' 'R' 'U' 'L']\n",
      " ['R' 'U' 'U' 'U']\n",
      " ['U' 'U' 'U' 'U']\n",
      " ['U' 'U' 'U' 'U']]\n",
      "path from (4, 4)\n",
      "(4, 4)U\n",
      "(4, 3)U\n",
      "(4, 2)UL\n",
      "(3, 1)U\n",
      "(3, 1)U\n",
      "(3, 1)U\n",
      "(3, 1)U\n",
      "(3, 1)U\n",
      "(3, 1)U\n",
      "(3, 1)U\n",
      "(3, 1)U\n",
      "(3, 1)U\n"
     ]
    },
    {
     "data": {
      "image/png": "[encoded data removed]",
      "text/plain": [
       "<matplotlib.figure.Figure at 0x103e39f10>"
      ]
     },
     "metadata": {},
     "output_type": "display_data"
    }
   ],
   "source": [
    "a = GridWorldAgent(width=4,height=4,rewardValues =  {(3,1):10})\n",
    "a.Run()\n",
    "action_list,_, path_list = a.CreatePolicyPath((4,4),max_path_length = 12,print_path=True)"
   ]
  },
  {
   "cell_type": "code",
   "execution_count": null,
   "metadata": {},
   "outputs": [],
   "source": [
    "c = RewardGuesser(a.map.T, a.map.S, a.r, action_list, path_list)\n",
    "c.validate(num_samples = 1000)"
   ]
  },
  {
   "cell_type": "code",
   "execution_count": null,
   "metadata": {},
   "outputs": [],
   "source": [
    "for i in range(1,5):\n",
    "    for j in range(1,5):\n",
    "        for k in [(1,1), (4,4)]:\n",
    "            a = GridWorldAgent(width=4,height=4,rewardValues =  {(i,j):10})\n",
    "            action_list,_,path_list = a.CreatePolicyPath(k, max_path_length = 8,print_path=False)\n",
    "            c = RewardGuesser(a.map.T, a.map.S, a.r, action_list, path_list)\n",
    "            if not c.simpleValidate():\n",
    "                print(\"failed on:\")\n",
    "                a.CreatePolicyPath(k, max_path_length = 8,print_path=True)\n",
    "            else:\n",
    "                print(\"correct\")"
   ]
  },
  {
   "cell_type": "code",
   "execution_count": null,
   "metadata": {
    "collapsed": true
   },
   "outputs": [],
   "source": [
    "c = RewardGuesser(a.map.T, a.map.S, a.R)"
   ]
  },
  {
   "cell_type": "code",
   "execution_count": null,
   "metadata": {},
   "outputs": [],
   "source": [
    "c.guessReward(action_list, path_list)"
   ]
  },
  {
   "cell_type": "code",
   "execution_count": null,
   "metadata": {},
   "outputs": [],
   "source": [
    "b = GridWorldAgent(width=3,height=3,rewardValues =  {(2,2):40})\n",
    "b.Run()\n",
    "\n",
    "\n",
    "action_list,_, path_list = b.CreatePolicyPath((1,1),max_path_length = 5,  print_path=True)"
   ]
  },
  {
   "cell_type": "code",
   "execution_count": null,
   "metadata": {},
   "outputs": [],
   "source": [
    "d = RewardGuesser(b.map.T, b.map.S)\n",
    "d.guessReward(action_list, path_list)"
   ]
  },
  {
   "cell_type": "code",
   "execution_count": null,
   "metadata": {
    "collapsed": true
   },
   "outputs": [],
   "source": []
  }
 ],
 "metadata": {
  "kernelspec": {
   "display_name": "Python 2",
   "language": "python",
   "name": "python2"
  },
  "language_info": {
   "codemirror_mode": {
    "name": "ipython",
    "version": 2
   },
   "file_extension": ".py",
   "mimetype": "text/x-python",
   "name": "python",
   "nbconvert_exporter": "python",
   "pygments_lexer": "ipython2",
   "version": "2.7.14"
  }
 },
 "nbformat": 4,
 "nbformat_minor": 2
}

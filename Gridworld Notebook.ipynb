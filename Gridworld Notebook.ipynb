{
 "cells": [
  {
   "cell_type": "code",
   "execution_count": 1,
   "metadata": {},
   "outputs": [],
   "source": [
    "from gridworld_agent import *\n",
    "from reward_guesser import *"
   ]
  },
  {
   "cell_type": "code",
   "execution_count": null,
   "metadata": {
    "collapsed": true
   },
   "outputs": [],
   "source": [
    "%load_ext autoreload\n",
    "# %autoreload 2\n",
    "\n",
    "# from IPython.core.interactiveshell import InteractiveShell\n",
    "# InteractiveShell.ast_node_interactivity = \"all\""
   ]
  },
  {
   "cell_type": "code",
   "execution_count": null,
   "metadata": {},
   "outputs": [],
   "source": [
    "a = GridWorldAgent(width=4,height=4,rewardValues =  {(3,1):10})\n",
    "a.Run()\n",
    "action_list,_, path_list = a.CreatePolicyPath((4,4),max_path_length = 12,print_path=True)"
   ]
  },
  {
   "cell_type": "code",
   "execution_count": null,
   "metadata": {},
   "outputs": [],
   "source": [
    "c = RewardGuesser(a.map.T, a.map.S)\n",
    "c.guessReward(action_list, path_list)"
   ]
  },
  {
   "cell_type": "code",
   "execution_count": 2,
   "metadata": {},
   "outputs": [
    {
     "name": "stdout",
     "output_type": "stream",
     "text": [
      "guesses = ['[10  0  0  0  0  0  0  0  0  0  0  0  0  0  0  0]']\n",
      "actual = [10  0  0  0  0  0  0  0  0  0  0  0  0  0  0  0]\n",
      "correct\n",
      "guesses = ['[10  0  0  0  0  0  0  0  0  0  0  0  0  0  0  0]']\n",
      "actual = [10  0  0  0  0  0  0  0  0  0  0  0  0  0  0  0]\n",
      "correct\n",
      "guesses = ['[ 0  0  0  0 10  0  0  0  0  0  0  0  0  0  0  0]']\n",
      "actual = [ 0  0  0  0 10  0  0  0  0  0  0  0  0  0  0  0]\n",
      "correct\n",
      "guesses = ['[ 0  0  0  0 10  0  0  0  0  0  0  0  0  0  0  0]']\n",
      "actual = [ 0  0  0  0 10  0  0  0  0  0  0  0  0  0  0  0]\n",
      "correct\n",
      "guesses = ['[ 0  0  0  0  0  0  0  0 10  0  0  0  0  0  0  0]']\n",
      "actual = [ 0  0  0  0  0  0  0  0 10  0  0  0  0  0  0  0]\n",
      "correct\n",
      "guesses = ['[ 0  0  0  0  0  0  0  0 10  0  0  0  0  0  0  0]']\n",
      "actual = [ 0  0  0  0  0  0  0  0 10  0  0  0  0  0  0  0]\n",
      "correct\n",
      "guesses = ['[ 0  0  0  0  0  0  0  0  0  0  0  0 10  0  0  0]']\n",
      "actual = [ 0  0  0  0  0  0  0  0  0  0  0  0 10  0  0  0]\n",
      "correct\n",
      "guesses = ['[ 0  0  0  0  0  0  0  0  0  0  0  0 10  0  0  0]']\n",
      "actual = [ 0  0  0  0  0  0  0  0  0  0  0  0 10  0  0  0]\n",
      "correct\n",
      "guesses = ['[ 0 10  0  0  0  0  0  0  0  0  0  0  0  0  0  0]']\n",
      "actual = [ 0 10  0  0  0  0  0  0  0  0  0  0  0  0  0  0]\n",
      "correct\n",
      "guesses = ['[ 0 10  0  0  0  0  0  0  0  0  0  0  0  0  0  0]']\n",
      "actual = [ 0 10  0  0  0  0  0  0  0  0  0  0  0  0  0  0]\n",
      "correct\n",
      "guesses = ['[ 0  0  0  0  0 10  0  0  0  0  0  0  0  0  0  0]']\n",
      "actual = [ 0  0  0  0  0 10  0  0  0  0  0  0  0  0  0  0]\n",
      "correct\n",
      "guesses = ['[ 0  0  0  0  0 10  0  0  0  0  0  0  0  0  0  0]']\n",
      "actual = [ 0  0  0  0  0 10  0  0  0  0  0  0  0  0  0  0]\n",
      "correct\n",
      "guesses = ['[ 0  0  0  0  0  0  0  0  0 10  0  0  0  0  0  0]']\n",
      "actual = [ 0  0  0  0  0  0  0  0  0 10  0  0  0  0  0  0]\n",
      "correct\n",
      "guesses = ['[ 0  0  0  0  0  0  0  0  0 10  0  0  0  0  0  0]']\n",
      "actual = [ 0  0  0  0  0  0  0  0  0 10  0  0  0  0  0  0]\n",
      "correct\n",
      "guesses = ['[ 0  0  0  0  0  0  0  0  0  0  0  0  0 10  0  0]']\n",
      "actual = [ 0  0  0  0  0  0  0  0  0  0  0  0  0 10  0  0]\n",
      "correct\n",
      "guesses = ['[ 0  0  0  0  0  0  0  0  0  0  0  0  0 10  0  0]']\n",
      "actual = [ 0  0  0  0  0  0  0  0  0  0  0  0  0 10  0  0]\n",
      "correct\n",
      "guesses = ['[ 0  0 10  0  0  0  0  0  0  0  0  0  0  0  0  0]']\n",
      "actual = [ 0  0 10  0  0  0  0  0  0  0  0  0  0  0  0  0]\n",
      "correct\n",
      "guesses = ['[ 0  0 10  0  0  0  0  0  0  0  0  0  0  0  0  0]']\n",
      "actual = [ 0  0 10  0  0  0  0  0  0  0  0  0  0  0  0  0]\n",
      "correct\n",
      "guesses = ['[ 0  0  0  0  0  0 10  0  0  0  0  0  0  0  0  0]']\n",
      "actual = [ 0  0  0  0  0  0 10  0  0  0  0  0  0  0  0  0]\n",
      "correct\n",
      "guesses = ['[ 0  0  0  0  0  0 10  0  0  0  0  0  0  0  0  0]']\n",
      "actual = [ 0  0  0  0  0  0 10  0  0  0  0  0  0  0  0  0]\n",
      "correct\n",
      "guesses = ['[ 0  0  0  0  0  0  0  0  0  0 10  0  0  0  0  0]']\n",
      "actual = [ 0  0  0  0  0  0  0  0  0  0 10  0  0  0  0  0]\n",
      "correct\n",
      "guesses = ['[ 0  0  0  0  0  0  0  0  0 10  0  0  0  0  0  0]']\n",
      "actual = [ 0  0  0  0  0  0  0  0  0  0 10  0  0  0  0  0]\n",
      "failed on:\n",
      "path from (4, 4)\n",
      "(4, 4)UL\n",
      "(3, 3)L\n",
      "(2, 3)R\n",
      "(3, 3)L\n",
      "(2, 3)R\n",
      "(3, 3)L\n",
      "(2, 3)R\n",
      "(3, 3)L\n"
     ]
    },
    {
     "data": {
      "image/png": "[encoded data removed]",
      "text/plain": [
       "<matplotlib.figure.Figure at 0x112387a90>"
      ]
     },
     "metadata": {},
     "output_type": "display_data"
    },
    {
     "name": "stdout",
     "output_type": "stream",
     "text": [
      "guesses = ['[ 0  0  0  0  0  0  0  0  0  0  0  0  0  0 10  0]']\n",
      "actual = [ 0  0  0  0  0  0  0  0  0  0  0  0  0  0 10  0]\n",
      "correct\n",
      "guesses = ['[ 0  0  0  0  0  0  0  0  0  0  0  0  0  0 10  0]']\n",
      "actual = [ 0  0  0  0  0  0  0  0  0  0  0  0  0  0 10  0]\n",
      "correct\n",
      "guesses = ['[ 0  0  0 10  0  0  0  0  0  0  0  0  0  0  0  0]']\n",
      "actual = [ 0  0  0 10  0  0  0  0  0  0  0  0  0  0  0  0]\n",
      "correct\n",
      "guesses = ['[ 0  0  0 10  0  0  0  0  0  0  0  0  0  0  0  0]']\n",
      "actual = [ 0  0  0 10  0  0  0  0  0  0  0  0  0  0  0  0]\n",
      "correct\n",
      "guesses = ['[ 0  0  0  0  0  0  0 10  0  0  0  0  0  0  0  0]']\n",
      "actual = [ 0  0  0  0  0  0  0 10  0  0  0  0  0  0  0  0]\n",
      "correct\n",
      "guesses = ['[ 0  0  0  0  0  0  0 10  0  0  0  0  0  0  0  0]']\n",
      "actual = [ 0  0  0  0  0  0  0 10  0  0  0  0  0  0  0  0]\n",
      "correct\n",
      "guesses = ['[ 0  0  0  0  0  0  0  0  0  0  0 10  0  0  0  0]']\n",
      "actual = [ 0  0  0  0  0  0  0  0  0  0  0 10  0  0  0  0]\n",
      "correct\n",
      "guesses = ['[ 0  0  0  0  0  0  0  0  0  0  0 10  0  0  0  0]']\n",
      "actual = [ 0  0  0  0  0  0  0  0  0  0  0 10  0  0  0  0]\n",
      "correct\n",
      "guesses = ['[ 0  0  0  0  0  0  0  0  0  0  0  0  0  0  0 10]']\n",
      "actual = [ 0  0  0  0  0  0  0  0  0  0  0  0  0  0  0 10]\n",
      "correct\n",
      "guesses = ['[ 0  0  0  0  0  0  0  0  0  0  0  0  0  0  0 10]']\n",
      "actual = [ 0  0  0  0  0  0  0  0  0  0  0  0  0  0  0 10]\n",
      "correct\n"
     ]
    }
   ],
   "source": [
    "for i in range(1,5):\n",
    "    for j in range(1,5):\n",
    "        for k in [(1,1), (4,4)]:\n",
    "            a = GridWorldAgent(width=4,height=4,rewardValues =  {(i,j):10})\n",
    "            action_list,_,path_list = a.CreatePolicyPath(k, max_path_length = 8,print_path=False)\n",
    "            c = RewardGuesser(a.map.T, a.map.S, a.r)\n",
    "            if not c.validate(action_list, path_list):\n",
    "                print(\"failed on:\")\n",
    "                a.CreatePolicyPath(k, max_path_length = 8,print_path=True)\n",
    "            else:\n",
    "                print(\"correct\")"
   ]
  },
  {
   "cell_type": "code",
   "execution_count": null,
   "metadata": {
    "collapsed": true
   },
   "outputs": [],
   "source": [
    "c = RewardGuesser(a.map.T, a.map.S, a.R)"
   ]
  },
  {
   "cell_type": "code",
   "execution_count": null,
   "metadata": {},
   "outputs": [],
   "source": [
    "c.guessReward(action_list, path_list)"
   ]
  },
  {
   "cell_type": "code",
   "execution_count": null,
   "metadata": {},
   "outputs": [],
   "source": [
    "b = GridWorldAgent(width=3,height=3,rewardValues =  {(2,2):40})\n",
    "b.Run()\n",
    "\n",
    "\n",
    "action_list,_, path_list = b.CreatePolicyPath((1,1),max_path_length = 5,  print_path=True)"
   ]
  },
  {
   "cell_type": "code",
   "execution_count": null,
   "metadata": {},
   "outputs": [],
   "source": [
    "d = RewardGuesser(b.map.T, b.map.S)\n",
    "d.guessReward(action_list, path_list)"
   ]
  },
  {
   "cell_type": "code",
   "execution_count": null,
   "metadata": {
    "collapsed": true
   },
   "outputs": [],
   "source": []
  }
 ],
 "metadata": {
  "kernelspec": {
   "display_name": "Python 2",
   "language": "python",
   "name": "python2"
  },
  "language_info": {
   "codemirror_mode": {
    "name": "ipython",
    "version": 2
   },
   "file_extension": ".py",
   "mimetype": "text/x-python",
   "name": "python",
   "nbconvert_exporter": "python",
   "pygments_lexer": "ipython2",
   "version": "2.7.14"
  }
 },
 "nbformat": 4,
 "nbformat_minor": 2
}
